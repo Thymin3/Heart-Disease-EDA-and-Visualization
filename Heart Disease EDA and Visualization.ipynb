{
 "cells": [
  {
   "cell_type": "markdown",
   "id": "70fa6801",
   "metadata": {},
   "source": [
    "# Heart Disease - Exploratory Data Analysis and Visualization"
   ]
  },
  {
   "cell_type": "markdown",
   "id": "02ce8b6e",
   "metadata": {},
   "source": [
    "Data set source: https://www.kaggle.com/datasets/kamilpytlak/personal-key-indicators-of-heart-disease\n",
    "Code GitHub Link: \n",
    "2022 file used (without nas)"
   ]
  }
 ],
 "metadata": {
  "kernelspec": {
   "display_name": "Python 3 (ipykernel)",
   "language": "python",
   "name": "python3"
  },
  "language_info": {
   "codemirror_mode": {
    "name": "ipython",
    "version": 3
   },
   "file_extension": ".py",
   "mimetype": "text/x-python",
   "name": "python",
   "nbconvert_exporter": "python",
   "pygments_lexer": "ipython3",
   "version": "3.11.5"
  }
 },
 "nbformat": 4,
 "nbformat_minor": 5
}
